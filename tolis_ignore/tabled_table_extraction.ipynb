{
 "cells": [
  {
   "cell_type": "code",
   "execution_count": 1,
   "metadata": {},
   "outputs": [
    {
     "name": "stderr",
     "output_type": "stream",
     "text": [
      "/home/tolis/Desktop/tolis/DNN/project/img2table/lib/python3.12/site-packages/tqdm/auto.py:21: TqdmWarning: IProgress not found. Please update jupyter and ipywidgets. See https://ipywidgets.readthedocs.io/en/stable/user_install.html\n",
      "  from .autonotebook import tqdm as notebook_tqdm\n"
     ]
    },
    {
     "name": "stdout",
     "output_type": "stream",
     "text": [
      "Loaded detection model vikp/surya_det3 on device cuda with dtype torch.float16\n",
      "Loaded table recognition model vikp/surya_tablerec on device cuda with dtype torch.float16\n",
      "Loaded recognition model vikp/surya_rec2 on device cuda with dtype torch.float16\n",
      "Loaded layout model datalab-to/surya_layout on device cuda with dtype torch.float16\n"
     ]
    },
    {
     "name": "stderr",
     "output_type": "stream",
     "text": [
      "Recognizing layout: 100%|██████████| 1/1 [00:01<00:00,  1.03s/it]\n",
      "Recognizing tables: 100%|██████████| 1/1 [00:00<00:00,  4.18it/s]\n"
     ]
    },
    {
     "ename": "TypeError",
     "evalue": "tuple indices must be integers or slices, not str",
     "output_type": "error",
     "traceback": [
      "\u001b[0;31m---------------------------------------------------------------------------\u001b[0m",
      "\u001b[0;31mTypeError\u001b[0m                                 Traceback (most recent call last)",
      "Cell \u001b[0;32mIn[1], line 64\u001b[0m\n\u001b[1;32m     61\u001b[0m output_dir \u001b[38;5;241m=\u001b[39m \u001b[38;5;124m\"\u001b[39m\u001b[38;5;124m/home/tolis/Desktop/tolis/DNN/project/DeepLearning_2024_2025_DSIT/utils/output\u001b[39m\u001b[38;5;124m\"\u001b[39m\n\u001b[1;32m     62\u001b[0m output_format \u001b[38;5;241m=\u001b[39m \u001b[38;5;124m\"\u001b[39m\u001b[38;5;124mmarkdown\u001b[39m\u001b[38;5;124m\"\u001b[39m\n\u001b[0;32m---> 64\u001b[0m \u001b[43mextract_tables_from_pdf\u001b[49m\u001b[43m(\u001b[49m\u001b[43mpdf_path\u001b[49m\u001b[43m,\u001b[49m\u001b[43m \u001b[49m\u001b[43moutput_dir\u001b[49m\u001b[43m,\u001b[49m\u001b[43m \u001b[49m\u001b[43moutput_format\u001b[49m\u001b[43m)\u001b[49m\n",
      "Cell \u001b[0;32mIn[1], line 35\u001b[0m, in \u001b[0;36mextract_tables_from_pdf\u001b[0;34m(pdf_path, output_dir, output_format)\u001b[0m\n\u001b[1;32m     33\u001b[0m \u001b[38;5;28;01mfor\u001b[39;00m i, page_result \u001b[38;5;129;01min\u001b[39;00m \u001b[38;5;28menumerate\u001b[39m(page_results):\n\u001b[1;32m     34\u001b[0m     \u001b[38;5;28;01mfor\u001b[39;00m table_index, table \u001b[38;5;129;01min\u001b[39;00m \u001b[38;5;28menumerate\u001b[39m(page_result):\n\u001b[0;32m---> 35\u001b[0m         table_data \u001b[38;5;241m=\u001b[39m \u001b[43mtable\u001b[49m\u001b[43m[\u001b[49m\u001b[38;5;124;43m\"\u001b[39;49m\u001b[38;5;124;43mcells\u001b[39;49m\u001b[38;5;124;43m\"\u001b[39;49m\u001b[43m]\u001b[49m\n\u001b[1;32m     37\u001b[0m         \u001b[38;5;66;03m# Save as Markdown, CSV, or HTML\u001b[39;00m\n\u001b[1;32m     38\u001b[0m         output_file \u001b[38;5;241m=\u001b[39m os\u001b[38;5;241m.\u001b[39mpath\u001b[38;5;241m.\u001b[39mjoin(output_dir, \u001b[38;5;124mf\u001b[39m\u001b[38;5;124m\"\u001b[39m\u001b[38;5;124mpage_\u001b[39m\u001b[38;5;132;01m{\u001b[39;00mi\u001b[38;5;250m \u001b[39m\u001b[38;5;241m+\u001b[39m\u001b[38;5;250m \u001b[39m\u001b[38;5;241m1\u001b[39m\u001b[38;5;132;01m}\u001b[39;00m\u001b[38;5;124m_table_\u001b[39m\u001b[38;5;132;01m{\u001b[39;00mtable_index\u001b[38;5;250m \u001b[39m\u001b[38;5;241m+\u001b[39m\u001b[38;5;250m \u001b[39m\u001b[38;5;241m1\u001b[39m\u001b[38;5;132;01m}\u001b[39;00m\u001b[38;5;124m.\u001b[39m\u001b[38;5;132;01m{\u001b[39;00moutput_format\u001b[38;5;132;01m}\u001b[39;00m\u001b[38;5;124m\"\u001b[39m)\n",
      "\u001b[0;31mTypeError\u001b[0m: tuple indices must be integers or slices, not str"
     ]
    },
    {
     "ename": "",
     "evalue": "",
     "output_type": "error",
     "traceback": [
      "\u001b[1;31mThe Kernel crashed while executing code in the current cell or a previous cell. \n",
      "\u001b[1;31mPlease review the code in the cell(s) to identify a possible cause of the failure. \n",
      "\u001b[1;31mClick <a href='https://aka.ms/vscodeJupyterKernelCrash'>here</a> for more info. \n",
      "\u001b[1;31mView Jupyter <a href='command:jupyter.viewOutput'>log</a> for further details."
     ]
    }
   ],
   "source": [
    "import os\n",
    "from tabled.extract import extract_tables\n",
    "from tabled.fileinput import load_pdfs_images\n",
    "from tabled.inference.models import load_detection_models, load_recognition_models, load_layout_models\n",
    "\n",
    "def extract_tables_from_pdf(pdf_path, output_dir, output_format=\"markdown\"):\n",
    "    \"\"\"\n",
    "    Extract tables from a PDF and save them in the specified format.\n",
    "\n",
    "    Args:\n",
    "        pdf_path (str): Path to the PDF file.\n",
    "        output_dir (str): Directory where the output files will be saved.\n",
    "        output_format (str): Format for the output files (markdown, csv, or html). Default is 'markdown'.\n",
    "\n",
    "    Returns:\n",
    "        None\n",
    "    \"\"\"\n",
    "    if not os.path.exists(output_dir):\n",
    "        os.makedirs(output_dir)\n",
    "\n",
    "    # Load the detection, recognition, and layout models\n",
    "    det_models = load_detection_models()\n",
    "    rec_models = load_recognition_models()\n",
    "    layout_models = load_layout_models()\n",
    "\n",
    "    # Load PDF pages as images\n",
    "    images, highres_images, names, text_lines = load_pdfs_images(pdf_path)\n",
    "\n",
    "    # Extract tables from the PDF pages\n",
    "    page_results = extract_tables(images, highres_images, text_lines, det_models, layout_models, rec_models)\n",
    "\n",
    "    # Process and save the tables\n",
    "    for i, page_result in enumerate(page_results):\n",
    "        for table_index, table in enumerate(page_result):\n",
    "            table_data = table[\"cells\"]\n",
    "\n",
    "            # Save as Markdown, CSV, or HTML\n",
    "            output_file = os.path.join(output_dir, f\"page_{i + 1}_table_{table_index + 1}.{output_format}\")\n",
    "            with open(output_file, \"w\", encoding=\"utf-8\") as f:\n",
    "                if output_format == \"markdown\":\n",
    "                    f.write(\"|\" + \"|\".join([cell[\"text\"] for cell in table_data[0]]) + \"|\\n\")\n",
    "                    f.write(\"|\" + \"|\".join([\"---\" for _ in table_data[0]]) + \"|\\n\")\n",
    "                    for row in table_data:\n",
    "                        f.write(\"|\" + \"|\".join([cell[\"text\"] for cell in row]) + \"|\\n\")\n",
    "                elif output_format == \"csv\":\n",
    "                    for row in table_data:\n",
    "                        f.write(\",\".join([cell[\"text\"] for cell in row]) + \"\\n\")\n",
    "                elif output_format == \"html\":\n",
    "                    f.write(\"<table>\\n\")\n",
    "                    f.write(\"<tr>\" + \"\".join([f\"<th>{cell['text']}</th>\" for cell in table_data[0]]) + \"</tr>\\n\")\n",
    "                    for row in table_data:\n",
    "                        f.write(\"<tr>\" + \"\".join([f\"<td>{cell['text']}</td>\" for cell in row]) + \"</tr>\\n\")\n",
    "                    f.write(\"</table>\")\n",
    "\n",
    "    print(f\"Tables extracted and saved to {output_dir}\")\n",
    "import torch\n",
    "if __name__ == \"__main__\":\n",
    "    #clear cuda cache\n",
    "    torch.cuda.empty_cache()\n",
    "    pdf_path = \"/home/tolis/Desktop/tolis/DNN/project/cs_ai_2023_pdfs/2004.14254.pdf\"\n",
    "    output_dir = \"/home/tolis/Desktop/tolis/DNN/project/DeepLearning_2024_2025_DSIT/utils/output\"\n",
    "    output_format = \"markdown\"\n",
    "\n",
    "    extract_tables_from_pdf(pdf_path, output_dir, output_format)\n"
   ]
  }
 ],
 "metadata": {
  "kernelspec": {
   "display_name": "img2table",
   "language": "python",
   "name": "python3"
  },
  "language_info": {
   "codemirror_mode": {
    "name": "ipython",
    "version": 3
   },
   "file_extension": ".py",
   "mimetype": "text/x-python",
   "name": "python",
   "nbconvert_exporter": "python",
   "pygments_lexer": "ipython3",
   "version": "3.12.3"
  }
 },
 "nbformat": 4,
 "nbformat_minor": 2
}
