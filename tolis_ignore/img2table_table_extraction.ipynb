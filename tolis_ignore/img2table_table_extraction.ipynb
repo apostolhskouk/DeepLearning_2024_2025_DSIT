{
 "cells": [
  {
   "cell_type": "code",
   "execution_count": 2,
   "metadata": {},
   "outputs": [
    {
     "name": "stdout",
     "output_type": "stream",
     "text": [
      "tesseract 5.3.4\n",
      " leptonica-1.82.0\n",
      "  libgif 5.2.1 : libjpeg 8d (libjpeg-turbo 2.1.5) : libpng 1.6.43 : libtiff 4.5.1 : zlib 1.3 : libwebp 1.3.2 : libopenjp2 2.5.0\n",
      " Found AVX2\n",
      " Found AVX\n",
      " Found FMA\n",
      " Found SSE4.1\n",
      " Found OpenMP 201511\n",
      " Found libarchive 3.7.2 zlib/1.3 liblzma/5.4.5 bz2lib/1.0.8 liblz4/1.9.4 libzstd/1.5.5\n",
      " Found libcurl/8.5.0 OpenSSL/3.0.13 zlib/1.3 brotli/1.1.0 zstd/1.5.5 libidn2/2.3.7 libpsl/0.21.2 (+libidn2/2.3.7) libssh/0.10.6/openssl/zlib nghttp2/1.59.0 librtmp/2.3 OpenLDAP/2.6.7\n"
     ]
    },
    {
     "ename": "AttributeError",
     "evalue": "module 'cv2.ximgproc' has no attribute 'niBlackThreshold'",
     "output_type": "error",
     "traceback": [
      "\u001b[0;31m---------------------------------------------------------------------------\u001b[0m",
      "\u001b[0;31mAttributeError\u001b[0m                            Traceback (most recent call last)",
      "Cell \u001b[0;32mIn[2], line 16\u001b[0m\n\u001b[1;32m     13\u001b[0m pdf_document \u001b[38;5;241m=\u001b[39m PDF(src\u001b[38;5;241m=\u001b[39mpdf_path)\n\u001b[1;32m     15\u001b[0m \u001b[38;5;66;03m# Step 3: Extract tables from the PDF\u001b[39;00m\n\u001b[0;32m---> 16\u001b[0m extracted_tables \u001b[38;5;241m=\u001b[39m \u001b[43mpdf_document\u001b[49m\u001b[38;5;241;43m.\u001b[39;49m\u001b[43mextract_tables\u001b[49m\u001b[43m(\u001b[49m\n\u001b[1;32m     17\u001b[0m \u001b[43m    \u001b[49m\u001b[43mocr\u001b[49m\u001b[38;5;241;43m=\u001b[39;49m\u001b[43mtesseract_ocr\u001b[49m\n\u001b[1;32m     18\u001b[0m \u001b[43m)\u001b[49m\n\u001b[1;32m     20\u001b[0m \u001b[38;5;66;03m# Step 4: Process extracted tables\u001b[39;00m\n\u001b[1;32m     21\u001b[0m \u001b[38;5;28;01mfor\u001b[39;00m page_number, tables \u001b[38;5;129;01min\u001b[39;00m extracted_tables\u001b[38;5;241m.\u001b[39mitems():\n",
      "File \u001b[0;32m~/Desktop/tolis/DNN/project/img2table/lib/python3.12/site-packages/img2table/document/base/__init__.py:127\u001b[0m, in \u001b[0;36mDocument.extract_tables\u001b[0;34m(self, ocr, implicit_rows, implicit_columns, borderless_tables, min_confidence)\u001b[0m\n\u001b[1;32m    125\u001b[0m \u001b[38;5;66;03m# Extract tables from document\u001b[39;00m\n\u001b[1;32m    126\u001b[0m \u001b[38;5;28;01mfrom\u001b[39;00m \u001b[38;5;21;01mimg2table\u001b[39;00m\u001b[38;5;21;01m.\u001b[39;00m\u001b[38;5;21;01mtables\u001b[39;00m\u001b[38;5;21;01m.\u001b[39;00m\u001b[38;5;21;01mimage\u001b[39;00m \u001b[38;5;28;01mimport\u001b[39;00m TableImage\n\u001b[0;32m--> 127\u001b[0m tables \u001b[38;5;241m=\u001b[39m {idx: \u001b[43mTableImage\u001b[49m\u001b[43m(\u001b[49m\u001b[43mimg\u001b[49m\u001b[38;5;241;43m=\u001b[39;49m\u001b[43mimg\u001b[49m\u001b[43m,\u001b[49m\n\u001b[1;32m    128\u001b[0m \u001b[43m                          \u001b[49m\u001b[43mmin_confidence\u001b[49m\u001b[38;5;241;43m=\u001b[39;49m\u001b[43mmin_confidence\u001b[49m\u001b[43m)\u001b[49m\u001b[38;5;241m.\u001b[39mextract_tables(implicit_rows\u001b[38;5;241m=\u001b[39mimplicit_rows,\n\u001b[1;32m    129\u001b[0m                                                                         implicit_columns\u001b[38;5;241m=\u001b[39mimplicit_columns,\n\u001b[1;32m    130\u001b[0m                                                                         borderless_tables\u001b[38;5;241m=\u001b[39mborderless_tables)\n\u001b[1;32m    131\u001b[0m           \u001b[38;5;28;01mfor\u001b[39;00m idx, img \u001b[38;5;129;01min\u001b[39;00m \u001b[38;5;28menumerate\u001b[39m(\u001b[38;5;28mself\u001b[39m\u001b[38;5;241m.\u001b[39mimages)}\n\u001b[1;32m    133\u001b[0m \u001b[38;5;66;03m# Update table content with OCR if possible\u001b[39;00m\n\u001b[1;32m    134\u001b[0m tables \u001b[38;5;241m=\u001b[39m \u001b[38;5;28mself\u001b[39m\u001b[38;5;241m.\u001b[39mget_table_content(tables\u001b[38;5;241m=\u001b[39mtables,\n\u001b[1;32m    135\u001b[0m                                 ocr\u001b[38;5;241m=\u001b[39mocr,\n\u001b[1;32m    136\u001b[0m                                 min_confidence\u001b[38;5;241m=\u001b[39mmin_confidence)\n",
      "File \u001b[0;32m<string>:11\u001b[0m, in \u001b[0;36m__init__\u001b[0;34m(self, img, min_confidence, char_length, median_line_sep, thresh, contours, lines, tables)\u001b[0m\n",
      "File \u001b[0;32m~/Desktop/tolis/DNN/project/img2table/lib/python3.12/site-packages/img2table/tables/image.py:35\u001b[0m, in \u001b[0;36mTableImage.__post_init__\u001b[0;34m(self)\u001b[0m\n\u001b[1;32m     34\u001b[0m \u001b[38;5;28;01mdef\u001b[39;00m \u001b[38;5;21m__post_init__\u001b[39m(\u001b[38;5;28mself\u001b[39m):\n\u001b[0;32m---> 35\u001b[0m     \u001b[38;5;28mself\u001b[39m\u001b[38;5;241m.\u001b[39mthresh \u001b[38;5;241m=\u001b[39m \u001b[43mthreshold_dark_areas\u001b[49m\u001b[43m(\u001b[49m\u001b[43mimg\u001b[49m\u001b[38;5;241;43m=\u001b[39;49m\u001b[38;5;28;43mself\u001b[39;49m\u001b[38;5;241;43m.\u001b[39;49m\u001b[43mimg\u001b[49m\u001b[43m,\u001b[49m\u001b[43m \u001b[49m\u001b[43mchar_length\u001b[49m\u001b[38;5;241;43m=\u001b[39;49m\u001b[38;5;241;43m11\u001b[39;49m\u001b[43m)\u001b[49m\n\u001b[1;32m     37\u001b[0m     \u001b[38;5;66;03m# Compute image metrics\u001b[39;00m\n\u001b[1;32m     38\u001b[0m     \u001b[38;5;28mself\u001b[39m\u001b[38;5;241m.\u001b[39mchar_length, \u001b[38;5;28mself\u001b[39m\u001b[38;5;241m.\u001b[39mmedian_line_sep, \u001b[38;5;28mself\u001b[39m\u001b[38;5;241m.\u001b[39mcontours \u001b[38;5;241m=\u001b[39m compute_img_metrics(thresh\u001b[38;5;241m=\u001b[39m\u001b[38;5;28mself\u001b[39m\u001b[38;5;241m.\u001b[39mthresh\u001b[38;5;241m.\u001b[39mcopy())\n",
      "File \u001b[0;32m~/Desktop/tolis/DNN/project/img2table/lib/python3.12/site-packages/img2table/tables/__init__.py:26\u001b[0m, in \u001b[0;36mthreshold_dark_areas\u001b[0;34m(img, char_length)\u001b[0m\n\u001b[1;32m     23\u001b[0m thresh_kernel \u001b[38;5;241m=\u001b[39m \u001b[38;5;28mint\u001b[39m(char_length) \u001b[38;5;241m/\u001b[39m\u001b[38;5;241m/\u001b[39m \u001b[38;5;241m2\u001b[39m \u001b[38;5;241m*\u001b[39m \u001b[38;5;241m2\u001b[39m \u001b[38;5;241m+\u001b[39m \u001b[38;5;241m1\u001b[39m\n\u001b[1;32m     25\u001b[0m \u001b[38;5;66;03m# Threshold original image\u001b[39;00m\n\u001b[0;32m---> 26\u001b[0m t_sauvola \u001b[38;5;241m=\u001b[39m \u001b[43mcv2\u001b[49m\u001b[38;5;241;43m.\u001b[39;49m\u001b[43mximgproc\u001b[49m\u001b[38;5;241;43m.\u001b[39;49m\u001b[43mniBlackThreshold\u001b[49m(gray, \u001b[38;5;241m255\u001b[39m, cv2\u001b[38;5;241m.\u001b[39mTHRESH_BINARY_INV, thresh_kernel, \u001b[38;5;241m0.2\u001b[39m,\n\u001b[1;32m     27\u001b[0m                                           binarizationMethod\u001b[38;5;241m=\u001b[39mcv2\u001b[38;5;241m.\u001b[39mximgproc\u001b[38;5;241m.\u001b[39mBINARIZATION_SAUVOLA)\n\u001b[1;32m     28\u001b[0m thresh \u001b[38;5;241m=\u001b[39m \u001b[38;5;241m255\u001b[39m \u001b[38;5;241m*\u001b[39m (gray \u001b[38;5;241m<\u001b[39m\u001b[38;5;241m=\u001b[39m t_sauvola)\u001b[38;5;241m.\u001b[39mastype(np\u001b[38;5;241m.\u001b[39muint8)\n\u001b[1;32m     29\u001b[0m binary_thresh \u001b[38;5;241m=\u001b[39m \u001b[38;5;28;01mNone\u001b[39;00m\n",
      "\u001b[0;31mAttributeError\u001b[0m: module 'cv2.ximgproc' has no attribute 'niBlackThreshold'"
     ]
    }
   ],
   "source": [
    "from img2table.document import PDF\n",
    "from img2table.ocr import TesseractOCR\n",
    "import pandas as pd\n",
    "from IPython.display import display_html\n",
    "import os\n",
    "# Path to the sample PDF\n",
    "pdf_path = \"/home/tolis/Desktop/tolis/DNN/project/cs_ai_2023_pdfs/2004.14254.pdf\"\n",
    "\n",
    "# Step 1: Initialize OCR instance\n",
    "tesseract_ocr = TesseractOCR(lang=\"eng\")\n",
    "\n",
    "# Step 2: Define PDF Document\n",
    "pdf_document = PDF(src=pdf_path)\n",
    "\n",
    "# Step 3: Extract tables from the PDF\n",
    "extracted_tables = pdf_document.extract_tables(\n",
    "    ocr=tesseract_ocr\n",
    ")\n",
    "\n",
    "# Step 4: Process extracted tables\n",
    "for page_number, tables in extracted_tables.items():\n",
    "    print(f\"Page {page_number + 1}:\")\n",
    "    \n",
    "    for table_index, table in enumerate(tables):\n",
    "        # Convert the table to a DataFrame\n",
    "        df = table.df\n",
    "        \n",
    "        # Display table as HTML (useful for Jupyter Notebook environments)\n",
    "        display_html(\n",
    "            table.html_repr(title=f\"Page {page_number + 1} - Table {table_index + 1}\"),\n",
    "            raw=True\n",
    "        )\n",
    "        \n",
    "        # Save each table as a CSV (optional)\n",
    "        csv_path = f\"output/page_{page_number + 1}_table_{table_index + 1}.csv\"\n",
    "        # check if the directory exists\n",
    "        if not os.path.exists(\"output\"):\n",
    "            os.makedirs(\"output\")\n",
    "        df.to_csv(csv_path, index=False)\n",
    "        print(f\"Table saved to {csv_path}\")\n",
    "\n",
    "# Step 5: Optional summary\n",
    "print(\"\\nExtraction complete. Tables saved as CSV files in the 'output' directory.\")\n",
    "\n"
   ]
  }
 ],
 "metadata": {
  "kernelspec": {
   "display_name": "img2table",
   "language": "python",
   "name": "python3"
  },
  "language_info": {
   "codemirror_mode": {
    "name": "ipython",
    "version": 3
   },
   "file_extension": ".py",
   "mimetype": "text/x-python",
   "name": "python",
   "nbconvert_exporter": "python",
   "pygments_lexer": "ipython3",
   "version": "3.12.3"
  }
 },
 "nbformat": 4,
 "nbformat_minor": 2
}
