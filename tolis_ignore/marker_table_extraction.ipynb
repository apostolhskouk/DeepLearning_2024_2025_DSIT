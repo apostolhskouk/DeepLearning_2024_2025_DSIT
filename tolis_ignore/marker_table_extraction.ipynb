{
 "cells": [
  {
   "cell_type": "code",
   "execution_count": 4,
   "metadata": {},
   "outputs": [
    {
     "name": "stdout",
     "output_type": "stream",
     "text": [
      "Loaded layout model datalab-to/surya_layout on device cuda with dtype torch.float16\n",
      "Loaded texify model to cuda with torch.float16 dtype\n",
      "Loaded recognition model vikp/surya_rec2 on device cuda with dtype torch.float16\n",
      "Loaded table recognition model vikp/surya_tablerec on device cuda with dtype torch.float16\n",
      "Loaded detection model vikp/surya_det3 on device cuda with dtype torch.float16\n"
     ]
    },
    {
     "ename": "AttributeError",
     "evalue": "'PdfConverter' object has no attribute 'build_document'",
     "output_type": "error",
     "traceback": [
      "\u001b[0;31m---------------------------------------------------------------------------\u001b[0m",
      "\u001b[0;31mAttributeError\u001b[0m                            Traceback (most recent call last)",
      "Cell \u001b[0;32mIn[4], line 31\u001b[0m\n\u001b[1;32m     28\u001b[0m pdf_path \u001b[38;5;241m=\u001b[39m \u001b[38;5;124m\"\u001b[39m\u001b[38;5;124m/home/tolis/Desktop/tolis/DNN/project/cs_ai_2023_pdfs/2004.14254.pdf\u001b[39m\u001b[38;5;124m\"\u001b[39m\n\u001b[1;32m     29\u001b[0m output_dir \u001b[38;5;241m=\u001b[39m \u001b[38;5;124m\"\u001b[39m\u001b[38;5;124m/home/tolis/Desktop/tolis/DNN/project/DeepLearning_2024_2025_DSIT/utils/output\u001b[39m\u001b[38;5;124m\"\u001b[39m\n\u001b[0;32m---> 31\u001b[0m \u001b[43mextract_tables_from_pdf_with_marker\u001b[49m\u001b[43m(\u001b[49m\u001b[43mpdf_path\u001b[49m\u001b[43m,\u001b[49m\u001b[43m \u001b[49m\u001b[43moutput_dir\u001b[49m\u001b[43m)\u001b[49m\n",
      "Cell \u001b[0;32mIn[4], line 15\u001b[0m, in \u001b[0;36mextract_tables_from_pdf_with_marker\u001b[0;34m(pdf_path, output_dir)\u001b[0m\n\u001b[1;32m     11\u001b[0m converter \u001b[38;5;241m=\u001b[39m PdfConverter(\n\u001b[1;32m     12\u001b[0m     artifact_dict\u001b[38;5;241m=\u001b[39mcreate_model_dict(),\n\u001b[1;32m     13\u001b[0m )\n\u001b[1;32m     14\u001b[0m \u001b[38;5;66;03m# Convert the PDF\u001b[39;00m\n\u001b[0;32m---> 15\u001b[0m document \u001b[38;5;241m=\u001b[39m \u001b[43mconverter\u001b[49m\u001b[38;5;241;43m.\u001b[39;49m\u001b[43mbuild_document\u001b[49m(pdf_path)\n\u001b[1;32m     18\u001b[0m \u001b[38;5;66;03m# Extract tables and text\u001b[39;00m\n\u001b[1;32m     19\u001b[0m tables \u001b[38;5;241m=\u001b[39m document\u001b[38;5;241m.\u001b[39mcontained_blocks((BlockTypes\u001b[38;5;241m.\u001b[39mTable,))\n",
      "\u001b[0;31mAttributeError\u001b[0m: 'PdfConverter' object has no attribute 'build_document'"
     ]
    },
    {
     "ename": "",
     "evalue": "",
     "output_type": "error",
     "traceback": [
      "\u001b[1;31mThe Kernel crashed while executing code in the current cell or a previous cell. \n",
      "\u001b[1;31mPlease review the code in the cell(s) to identify a possible cause of the failure. \n",
      "\u001b[1;31mClick <a href='https://aka.ms/vscodeJupyterKernelCrash'>here</a> for more info. \n",
      "\u001b[1;31mView Jupyter <a href='command:jupyter.viewOutput'>log</a> for further details."
     ]
    }
   ],
   "source": [
    "from marker.converters.pdf import PdfConverter\n",
    "from marker.models import create_model_dict\n",
    "from marker.schema import BlockTypes\n",
    "\n",
    "import os\n",
    "def extract_tables_from_pdf_with_marker(pdf_path, output_dir):\n",
    "\n",
    "    if not os.path.exists(output_dir):\n",
    "        os.makedirs(output_dir)\n",
    "\n",
    "    converter = PdfConverter(\n",
    "        artifact_dict=create_model_dict(),\n",
    "    )\n",
    "    # Convert the PDF\n",
    "    document = converter.build_document(pdf_path)\n",
    "    \n",
    "\n",
    "    # Extract tables and text\n",
    "    tables = document.contained_blocks((BlockTypes.Table,))\n",
    "    # Save the output based on the requested format\n",
    "    output_file = os.path.join(output_dir, f\"output_tables.md\")\n",
    "    with open(output_file, \"w\", encoding=\"utf-8\") as f:\n",
    "        f.write(tables)\n",
    "\n",
    "    print(f\"Output saved to {output_file}\")\n",
    "\n",
    "if __name__ == \"__main__\":\n",
    "    pdf_path = \"/home/tolis/Desktop/tolis/DNN/project/cs_ai_2023_pdfs/2004.14254.pdf\"\n",
    "    output_dir = \"/home/tolis/Desktop/tolis/DNN/project/DeepLearning_2024_2025_DSIT/utils/output\"\n",
    "\n",
    "    extract_tables_from_pdf_with_marker(pdf_path, output_dir)\n"
   ]
  }
 ],
 "metadata": {
  "kernelspec": {
   "display_name": "img2table",
   "language": "python",
   "name": "python3"
  },
  "language_info": {
   "codemirror_mode": {
    "name": "ipython",
    "version": 3
   },
   "file_extension": ".py",
   "mimetype": "text/x-python",
   "name": "python",
   "nbconvert_exporter": "python",
   "pygments_lexer": "ipython3",
   "version": "3.12.3"
  }
 },
 "nbformat": 4,
 "nbformat_minor": 2
}
