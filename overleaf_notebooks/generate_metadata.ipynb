{
 "cells": [
  {
   "cell_type": "code",
   "execution_count": 3,
   "metadata": {},
   "outputs": [],
   "source": [
    "import os\n",
    "os.environ[\"CUDA_VISIBLE_DEVICES\"] = \"1\"\n",
    "import sys\n",
    "from pathlib import Path\n",
    "project_path = Path(\"/data/hdd1/users/akouk/codes/DeepLearning_2024_2025_DSIT/\")\n",
    "sys.path.append(str(project_path))\n",
    "from utils.PDFSerlalizer import DocumentHandler"
   ]
  },
  {
   "cell_type": "code",
   "execution_count": 6,
   "metadata": {},
   "outputs": [
    {
     "name": "stdout",
     "output_type": "stream",
     "text": [
      "Processing PDF: /data/hdd1/users/akouk/codes/DeepLearning_2024_2025_DSIT/NEO.pdf...\n"
     ]
    },
    {
     "name": "stderr",
     "output_type": "stream",
     "text": [
      "Loading checkpoint shards: 100%|██████████| 2/2 [00:01<00:00,  1.23it/s]\n",
      "Some parameters are on the meta device because they were offloaded to the cpu.\n",
      "Could not load the custom kernel for multi-scale deformable attention: /home/akouk/.cache/torch_extensions/py310_cu121/MultiScaleDeformableAttention/MultiScaleDeformableAttention.so: cannot open shared object file: No such file or directory\n",
      "Could not load the custom kernel for multi-scale deformable attention: /home/akouk/.cache/torch_extensions/py310_cu121/MultiScaleDeformableAttention/MultiScaleDeformableAttention.so: cannot open shared object file: No such file or directory\n",
      "Could not load the custom kernel for multi-scale deformable attention: /home/akouk/.cache/torch_extensions/py310_cu121/MultiScaleDeformableAttention/MultiScaleDeformableAttention.so: cannot open shared object file: No such file or directory\n",
      "Could not load the custom kernel for multi-scale deformable attention: /home/akouk/.cache/torch_extensions/py310_cu121/MultiScaleDeformableAttention/MultiScaleDeformableAttention.so: cannot open shared object file: No such file or directory\n",
      "Could not load the custom kernel for multi-scale deformable attention: /home/akouk/.cache/torch_extensions/py310_cu121/MultiScaleDeformableAttention/MultiScaleDeformableAttention.so: cannot open shared object file: No such file or directory\n",
      "Could not load the custom kernel for multi-scale deformable attention: /home/akouk/.cache/torch_extensions/py310_cu121/MultiScaleDeformableAttention/MultiScaleDeformableAttention.so: cannot open shared object file: No such file or directory\n",
      "Token indices sequence length is longer than the specified maximum sequence length for this model (579 > 512). Running this sequence through the model will result in indexing errors\n",
      "<All keys matched successfully>\n"
     ]
    },
    {
     "name": "stdout",
     "output_type": "stream",
     "text": [
      "Metadata saved to /data/hdd1/users/akouk/codes/DeepLearning_2024_2025_DSIT/output/metadata.json\n",
      "Annotated PDF saved to /data/hdd1/users/akouk/codes/DeepLearning_2024_2025_DSIT/output/NEO-annotated.pdf\n",
      "Process completed in 197.01 seconds\n"
     ]
    },
    {
     "data": {
      "text/plain": [
       "{'image_count': 22,\n",
       " 'metadata_path': '/data/hdd1/users/akouk/codes/DeepLearning_2024_2025_DSIT/output/metadata.json',\n",
       " 'annotated_pdf_path': '/data/hdd1/users/akouk/codes/DeepLearning_2024_2025_DSIT/output/NEO-annotated.pdf',\n",
       " 'descriptions_generated': True}"
      ]
     },
     "execution_count": 6,
     "metadata": {},
     "output_type": "execute_result"
    }
   ],
   "source": [
    "pdf_path = \"/data/hdd1/users/akouk/codes/DeepLearning_2024_2025_DSIT/NEO.pdf\"\n",
    "output_path = \"/data/hdd1/users/akouk/codes/DeepLearning_2024_2025_DSIT/output\"\n",
    "doc = DocumentHandler()\n",
    "doc.extract_images(\n",
    "    pdf_path, \n",
    "    output_path, \n",
    "    verbose=True, \n",
    "    export_pages=False, \n",
    "    export_figures=True, \n",
    "    export_tables=True, \n",
    "    add_caption=True, \n",
    "    generate_metadata=True,\n",
    "    generate_descriptions=True,\n",
    "    description_model= \"qwen\",\n",
    "    relevant_passages=1,\n",
    "    generate_annotated_pdf=True,\n",
    "    classify_images=True,\n",
    "    generate_table_markdown=True\n",
    ")"
   ]
  }
 ],
 "metadata": {
  "kernelspec": {
   "display_name": "tolis",
   "language": "python",
   "name": "python3"
  },
  "language_info": {
   "codemirror_mode": {
    "name": "ipython",
    "version": 3
   },
   "file_extension": ".py",
   "mimetype": "text/x-python",
   "name": "python",
   "nbconvert_exporter": "python",
   "pygments_lexer": "ipython3",
   "version": "3.10.16"
  }
 },
 "nbformat": 4,
 "nbformat_minor": 2
}
